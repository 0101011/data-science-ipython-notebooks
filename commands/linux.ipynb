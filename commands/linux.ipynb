{
 "metadata": {
  "name": "",
  "signature": "sha256:e595a63f61ca91bdd492a8932695aa68c3ef680260edee4cfe01574de3e4a431"
 },
 "nbformat": 3,
 "nbformat_minor": 0,
 "worksheets": [
  {
   "cells": [
    {
     "cell_type": "markdown",
     "metadata": {},
     "source": [
      "# Linux Commands"
     ]
    },
    {
     "cell_type": "markdown",
     "metadata": {},
     "source": [
      "## Disk Usage"
     ]
    },
    {
     "cell_type": "markdown",
     "metadata": {},
     "source": [
      "Display human-readable (-h) free disk space:"
     ]
    },
    {
     "cell_type": "code",
     "collapsed": false,
     "input": [
      "df -h"
     ],
     "language": "python",
     "metadata": {},
     "outputs": []
    },
    {
     "cell_type": "markdown",
     "metadata": {},
     "source": [
      "Display human-readable (-h) disk usage statistics:"
     ]
    },
    {
     "cell_type": "code",
     "collapsed": false,
     "input": [
      "du -h ./"
     ],
     "language": "python",
     "metadata": {},
     "outputs": []
    },
    {
     "cell_type": "markdown",
     "metadata": {},
     "source": [
      "Display human-readable (-h) disk usage statistics, showing only the total usage (-s):"
     ]
    },
    {
     "cell_type": "code",
     "collapsed": false,
     "input": [
      "du -sh ../"
     ],
     "language": "python",
     "metadata": {},
     "outputs": []
    },
    {
     "cell_type": "markdown",
     "metadata": {},
     "source": [
      "Display the human-readable (-h) disk usage statistics, showing also the grand total for all file types (-c):"
     ]
    },
    {
     "cell_type": "code",
     "collapsed": false,
     "input": [
      "du -csh ./"
     ],
     "language": "python",
     "metadata": {},
     "outputs": []
    }
   ],
   "metadata": {}
  }
 ]
}