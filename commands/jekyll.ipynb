{
 "metadata": {
  "name": "",
  "signature": "sha256:7c84e32a632b567f8244ff002bd56149062ba3002870c07b0399e389f30ca2f9"
 },
 "nbformat": 3,
 "nbformat_minor": 0,
 "worksheets": [
  {
   "cells": [
    {
     "cell_type": "markdown",
     "metadata": {},
     "source": [
      "# Jekyll Commands\n",
      "\n",
      "I\u2019ve also started to build up its mirror site donnemartin.github.io to try out Jekyll. So far I love that I can use my existing developer tools to generate content (SublimeText, Terminal, and GitHub).\n",
      "\n",
      "Here are other features I like about Jekyll:\n",
      "\n",
      "* Converts Markdown to produce fast, static pages\n",
      "* Simple to get started, no backend or manual updates\n",
      "* Hosted on GitHub Pages\n",
      "* Open source on GitHub"
     ]
    },
    {
     "cell_type": "markdown",
     "metadata": {},
     "source": [
      "Many Jekyll themes require a Ruby version of 2 and above.  However, the AWS CLI requires Ruby 1.8.7.  Run the proper version of Ruby for Jekyll:"
     ]
    },
    {
     "cell_type": "code",
     "collapsed": false,
     "input": [
      "rvm --default ruby-2.1.5"
     ],
     "language": "python",
     "metadata": {},
     "outputs": []
    },
    {
     "cell_type": "markdown",
     "metadata": {},
     "source": [
      "Build and run the localy Jekyll server:"
     ]
    },
    {
     "cell_type": "code",
     "collapsed": false,
     "input": [
      "# => The current folder will be generated into ./_site\n",
      "bundle exec jekyll build\n",
      "\n",
      "# => A development server will run at http://localhost:4000/\n",
      "# Auto-regeneration: enabled. Use `--no-watch` to disable.\n",
      "bundle exec jekyll serve"
     ],
     "language": "python",
     "metadata": {},
     "outputs": []
    }
   ],
   "metadata": {}
  }
 ]
}