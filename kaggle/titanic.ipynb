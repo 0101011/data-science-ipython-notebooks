{
 "metadata": {
  "name": "",
  "signature": "sha256:a3f3e1543e5bc90e27fade9a54807426f000183b797fbe87b823fbea1abdedb5"
 },
 "nbformat": 3,
 "nbformat_minor": 0,
 "worksheets": [
  {
   "cells": [
    {
     "cell_type": "markdown",
     "metadata": {},
     "source": [
      "# Kaggle Machine Learning Competition: Predicting Survivors on the Titanic\n",
      "\n",
      "* Competition Site\n",
      "* Description\n",
      "* Evaluation\n",
      "* Data Set\n",
      "* Read the Data\n",
      "* Explore the Data\n",
      "* Feature: Passenger Classes\n",
      "* Feature: Sex (Gender)\n",
      "* Feature: Embarked\n",
      "* Feature: Age\n",
      "* Feature: Family Size\n",
      "* Random Forest: Training\n",
      "* Random Forest: Predicting\n",
      "* Support Vector Machine: Training\n",
      "* Support Vector Machine: Predicting"
     ]
    },
    {
     "cell_type": "markdown",
     "metadata": {},
     "source": [
      "## Competition Site"
     ]
    },
    {
     "cell_type": "markdown",
     "metadata": {},
     "source": [
      "https://www.kaggle.com/c/titanic-gettingStarted"
     ]
    },
    {
     "cell_type": "markdown",
     "metadata": {},
     "source": [
      "## Description"
     ]
    },
    {
     "cell_type": "markdown",
     "metadata": {},
     "source": [
      "The sinking of the RMS Titanic is one of the most infamous shipwrecks in history.  On April 15, 1912, during her maiden voyage, the Titanic sank after colliding with an iceberg, killing 1502 out of 2224 passengers and crew. This sensational tragedy shocked the international community and led to better safety regulations for ships.\n",
      "\n",
      "One of the reasons that the shipwreck led to such loss of life was that there were not enough lifeboats for the passengers and crew. Although there was some element of luck involved in surviving the sinking, some groups of people were more likely to survive than others, such as women, children, and the upper-class.\n",
      "\n",
      "In this challenge, we ask you to complete the analysis of what sorts of people were likely to survive. In particular, we ask you to apply the tools of machine learning to predict which passengers survived the tragedy."
     ]
    },
    {
     "cell_type": "markdown",
     "metadata": {},
     "source": [
      "## Evaluation"
     ]
    },
    {
     "cell_type": "markdown",
     "metadata": {},
     "source": [
      "The historical data has been split into two groups, a 'training set' and a 'test set'.  For the training set, we provide the outcome ( 'ground truth' ) for each passenger.  You will use this set to build your model to generate predictions for the test set.\n",
      "\n",
      "For each passenger in the test set, you must predict whether or not they survived the sinking ( 0 for deceased, 1 for survived ).  Your score is the percentage of passengers you correctly predict.\n",
      "\n",
      " The Kaggle leaderboard has a public and private component.  50% of your predictions for the test set have been randomly assigned to the public leaderboard ( the same 50% for all users ).  Your score on this public portion is what will appear on the leaderboard.  At the end of the contest, we will reveal your score on the private 50% of the data, which will determine the final winner.  This method prevents users from 'overfitting' to the leaderboard."
     ]
    },
    {
     "cell_type": "markdown",
     "metadata": {},
     "source": [
      "## Data Set"
     ]
    },
    {
     "cell_type": "markdown",
     "metadata": {},
     "source": [
      "| File Name        | Available Formats |\n",
      "|------------------|-------------------|\n",
      "| train            | .csv (59.76 kb)   |\n",
      "| gendermodel      | .csv (3.18 kb)    |\n",
      "| genderclassmodel | .csv (3.18 kb)    |\n",
      "| test             | .csv (27.96 kb)   |\n",
      "| gendermodel      | .py (3.58 kb)     |\n",
      "| genderclassmodel | .py (5.63 kb)     |\n",
      "| myfirstforest    | .py (3.99 kb)     |"
     ]
    },
    {
     "cell_type": "raw",
     "metadata": {},
     "source": [
      "VARIABLE DESCRIPTIONS:\n",
      "survival        Survival\n",
      "                (0 = No; 1 = Yes)\n",
      "pclass          Passenger Class\n",
      "                (1 = 1st; 2 = 2nd; 3 = 3rd)\n",
      "name            Name\n",
      "sex             Sex\n",
      "age             Age\n",
      "sibsp           Number of Siblings/Spouses Aboard\n",
      "parch           Number of Parents/Children Aboard\n",
      "ticket          Ticket Number\n",
      "fare            Passenger Fare\n",
      "cabin           Cabin\n",
      "embarked        Port of Embarkation\n",
      "                (C = Cherbourg; Q = Queenstown; S = Southampton)\n",
      "\n",
      "SPECIAL NOTES:\n",
      "Pclass is a proxy for socio-economic status (SES)\n",
      " 1st ~ Upper; 2nd ~ Middle; 3rd ~ Lower\n",
      "\n",
      "Age is in Years; Fractional if Age less than One (1)\n",
      " If the Age is Estimated, it is in the form xx.5\n",
      "\n",
      "With respect to the family relation variables (i.e. sibsp and parch)\n",
      "some relations were ignored.  The following are the definitions used\n",
      "for sibsp and parch.\n",
      "\n",
      "Sibling:  Brother, Sister, Stepbrother, or Stepsister of Passenger Aboard Titanic\n",
      "Spouse:   Husband or Wife of Passenger Aboard Titanic (Mistresses and Fiances Ignored)\n",
      "Parent:   Mother or Father of Passenger Aboard Titanic\n",
      "Child:    Son, Daughter, Stepson, or Stepdaughter of Passenger Aboard Titanic\n",
      "\n",
      "Other family relatives excluded from this study include cousins,\n",
      "nephews/nieces, aunts/uncles, and in-laws.  Some children travelled\n",
      "only with a nanny, therefore parch=0 for them.  As well, some\n",
      "travelled with very close friends or neighbors in a village, however,\n",
      "the definitions do not support such relations."
     ]
    },
    {
     "cell_type": "markdown",
     "metadata": {},
     "source": [
      "## Read the Data"
     ]
    },
    {
     "cell_type": "code",
     "collapsed": false,
     "input": [
      "import pandas as pd\n",
      "import numpy as np\n",
      "import pylab as plt\n",
      "\n",
      "# Set the global default size of our matplotlib figures\n",
      "plt.rc('figure', figsize=(10, 5))\n",
      "\n",
      "df = pd.read_csv('../data/titanic/train.csv')"
     ],
     "language": "python",
     "metadata": {},
     "outputs": [],
     "prompt_number": 1
    },
    {
     "cell_type": "markdown",
     "metadata": {},
     "source": [
      "## Explore the Data"
     ]
    },
    {
     "cell_type": "code",
     "collapsed": false,
     "input": [
      "df.head(3)"
     ],
     "language": "python",
     "metadata": {},
     "outputs": [
      {
       "html": [
        "<div style=\"max-height:1000px;max-width:1500px;overflow:auto;\">\n",
        "<table border=\"1\" class=\"dataframe\">\n",
        "  <thead>\n",
        "    <tr style=\"text-align: right;\">\n",
        "      <th></th>\n",
        "      <th>PassengerId</th>\n",
        "      <th>Survived</th>\n",
        "      <th>Pclass</th>\n",
        "      <th>Name</th>\n",
        "      <th>Sex</th>\n",
        "      <th>Age</th>\n",
        "      <th>SibSp</th>\n",
        "      <th>Parch</th>\n",
        "      <th>Ticket</th>\n",
        "      <th>Fare</th>\n",
        "      <th>Cabin</th>\n",
        "      <th>Embarked</th>\n",
        "    </tr>\n",
        "  </thead>\n",
        "  <tbody>\n",
        "    <tr>\n",
        "      <th>0</th>\n",
        "      <td> 1</td>\n",
        "      <td> 0</td>\n",
        "      <td> 3</td>\n",
        "      <td>                           Braund, Mr. Owen Harris</td>\n",
        "      <td>   male</td>\n",
        "      <td> 22</td>\n",
        "      <td> 1</td>\n",
        "      <td> 0</td>\n",
        "      <td>        A/5 21171</td>\n",
        "      <td>  7.2500</td>\n",
        "      <td> NaN</td>\n",
        "      <td> S</td>\n",
        "    </tr>\n",
        "    <tr>\n",
        "      <th>1</th>\n",
        "      <td> 2</td>\n",
        "      <td> 1</td>\n",
        "      <td> 1</td>\n",
        "      <td> Cumings, Mrs. John Bradley (Florence Briggs Th...</td>\n",
        "      <td> female</td>\n",
        "      <td> 38</td>\n",
        "      <td> 1</td>\n",
        "      <td> 0</td>\n",
        "      <td>         PC 17599</td>\n",
        "      <td> 71.2833</td>\n",
        "      <td> C85</td>\n",
        "      <td> C</td>\n",
        "    </tr>\n",
        "    <tr>\n",
        "      <th>2</th>\n",
        "      <td> 3</td>\n",
        "      <td> 1</td>\n",
        "      <td> 3</td>\n",
        "      <td>                            Heikkinen, Miss. Laina</td>\n",
        "      <td> female</td>\n",
        "      <td> 26</td>\n",
        "      <td> 0</td>\n",
        "      <td> 0</td>\n",
        "      <td> STON/O2. 3101282</td>\n",
        "      <td>  7.9250</td>\n",
        "      <td> NaN</td>\n",
        "      <td> S</td>\n",
        "    </tr>\n",
        "  </tbody>\n",
        "</table>\n",
        "</div>"
       ],
       "metadata": {},
       "output_type": "pyout",
       "prompt_number": 2,
       "text": [
        "   PassengerId  Survived  Pclass  \\\n",
        "0            1         0       3   \n",
        "1            2         1       1   \n",
        "2            3         1       3   \n",
        "\n",
        "                                                Name     Sex  Age  SibSp  \\\n",
        "0                            Braund, Mr. Owen Harris    male   22      1   \n",
        "1  Cumings, Mrs. John Bradley (Florence Briggs Th...  female   38      1   \n",
        "2                             Heikkinen, Miss. Laina  female   26      0   \n",
        "\n",
        "   Parch            Ticket     Fare Cabin Embarked  \n",
        "0      0         A/5 21171   7.2500   NaN        S  \n",
        "1      0          PC 17599  71.2833   C85        C  \n",
        "2      0  STON/O2. 3101282   7.9250   NaN        S  "
       ]
      }
     ],
     "prompt_number": 2
    },
    {
     "cell_type": "code",
     "collapsed": false,
     "input": [
      "df.tail(3)"
     ],
     "language": "python",
     "metadata": {},
     "outputs": [
      {
       "html": [
        "<div style=\"max-height:1000px;max-width:1500px;overflow:auto;\">\n",
        "<table border=\"1\" class=\"dataframe\">\n",
        "  <thead>\n",
        "    <tr style=\"text-align: right;\">\n",
        "      <th></th>\n",
        "      <th>PassengerId</th>\n",
        "      <th>Survived</th>\n",
        "      <th>Pclass</th>\n",
        "      <th>Name</th>\n",
        "      <th>Sex</th>\n",
        "      <th>Age</th>\n",
        "      <th>SibSp</th>\n",
        "      <th>Parch</th>\n",
        "      <th>Ticket</th>\n",
        "      <th>Fare</th>\n",
        "      <th>Cabin</th>\n",
        "      <th>Embarked</th>\n",
        "    </tr>\n",
        "  </thead>\n",
        "  <tbody>\n",
        "    <tr>\n",
        "      <th>888</th>\n",
        "      <td> 889</td>\n",
        "      <td> 0</td>\n",
        "      <td> 3</td>\n",
        "      <td> Johnston, Miss. Catherine Helen \"Carrie\"</td>\n",
        "      <td> female</td>\n",
        "      <td>NaN</td>\n",
        "      <td> 1</td>\n",
        "      <td> 2</td>\n",
        "      <td> W./C. 6607</td>\n",
        "      <td> 23.45</td>\n",
        "      <td>  NaN</td>\n",
        "      <td> S</td>\n",
        "    </tr>\n",
        "    <tr>\n",
        "      <th>889</th>\n",
        "      <td> 890</td>\n",
        "      <td> 1</td>\n",
        "      <td> 1</td>\n",
        "      <td>                    Behr, Mr. Karl Howell</td>\n",
        "      <td>   male</td>\n",
        "      <td> 26</td>\n",
        "      <td> 0</td>\n",
        "      <td> 0</td>\n",
        "      <td>     111369</td>\n",
        "      <td> 30.00</td>\n",
        "      <td> C148</td>\n",
        "      <td> C</td>\n",
        "    </tr>\n",
        "    <tr>\n",
        "      <th>890</th>\n",
        "      <td> 891</td>\n",
        "      <td> 0</td>\n",
        "      <td> 3</td>\n",
        "      <td>                      Dooley, Mr. Patrick</td>\n",
        "      <td>   male</td>\n",
        "      <td> 32</td>\n",
        "      <td> 0</td>\n",
        "      <td> 0</td>\n",
        "      <td>     370376</td>\n",
        "      <td>  7.75</td>\n",
        "      <td>  NaN</td>\n",
        "      <td> Q</td>\n",
        "    </tr>\n",
        "  </tbody>\n",
        "</table>\n",
        "</div>"
       ],
       "metadata": {},
       "output_type": "pyout",
       "prompt_number": 3,
       "text": [
        "     PassengerId  Survived  Pclass                                      Name  \\\n",
        "888          889         0       3  Johnston, Miss. Catherine Helen \"Carrie\"   \n",
        "889          890         1       1                     Behr, Mr. Karl Howell   \n",
        "890          891         0       3                       Dooley, Mr. Patrick   \n",
        "\n",
        "        Sex  Age  SibSp  Parch      Ticket   Fare Cabin Embarked  \n",
        "888  female  NaN      1      2  W./C. 6607  23.45   NaN        S  \n",
        "889    male   26      0      0      111369  30.00  C148        C  \n",
        "890    male   32      0      0      370376   7.75   NaN        Q  "
       ]
      }
     ],
     "prompt_number": 3
    },
    {
     "cell_type": "markdown",
     "metadata": {},
     "source": [
      "View the data types of each column:"
     ]
    },
    {
     "cell_type": "code",
     "collapsed": false,
     "input": [
      "df.dtypes"
     ],
     "language": "python",
     "metadata": {},
     "outputs": [
      {
       "metadata": {},
       "output_type": "pyout",
       "prompt_number": 4,
       "text": [
        "PassengerId      int64\n",
        "Survived         int64\n",
        "Pclass           int64\n",
        "Name            object\n",
        "Sex             object\n",
        "Age            float64\n",
        "SibSp            int64\n",
        "Parch            int64\n",
        "Ticket          object\n",
        "Fare           float64\n",
        "Cabin           object\n",
        "Embarked        object\n",
        "dtype: object"
       ]
      }
     ],
     "prompt_number": 4
    },
    {
     "cell_type": "markdown",
     "metadata": {},
     "source": [
      "Get some basic information on the DataFrame:"
     ]
    },
    {
     "cell_type": "code",
     "collapsed": false,
     "input": [
      "df.info()"
     ],
     "language": "python",
     "metadata": {},
     "outputs": [
      {
       "output_type": "stream",
       "stream": "stdout",
       "text": [
        "<class 'pandas.core.frame.DataFrame'>\n",
        "Int64Index: 891 entries, 0 to 890\n",
        "Data columns (total 12 columns):\n",
        "PassengerId    891 non-null int64\n",
        "Survived       891 non-null int64\n",
        "Pclass         891 non-null int64\n",
        "Name           891 non-null object\n",
        "Sex            891 non-null object\n",
        "Age            714 non-null float64\n",
        "SibSp          891 non-null int64\n",
        "Parch          891 non-null int64\n",
        "Ticket         891 non-null object\n",
        "Fare           891 non-null float64\n",
        "Cabin          204 non-null object\n",
        "Embarked       889 non-null object\n",
        "dtypes: float64(2), int64(5), object(5)"
       ]
      }
     ],
     "prompt_number": 5
    },
    {
     "cell_type": "markdown",
     "metadata": {},
     "source": [
      "Note Age, Cabin, and Embarked are missing values."
     ]
    },
    {
     "cell_type": "markdown",
     "metadata": {},
     "source": [
      "Generate various descriptive statistics on the DataFrame:"
     ]
    },
    {
     "cell_type": "code",
     "collapsed": false,
     "input": [
      "df.describe()"
     ],
     "language": "python",
     "metadata": {},
     "outputs": [
      {
       "html": [
        "<div style=\"max-height:1000px;max-width:1500px;overflow:auto;\">\n",
        "<table border=\"1\" class=\"dataframe\">\n",
        "  <thead>\n",
        "    <tr style=\"text-align: right;\">\n",
        "      <th></th>\n",
        "      <th>PassengerId</th>\n",
        "      <th>Survived</th>\n",
        "      <th>Pclass</th>\n",
        "      <th>Age</th>\n",
        "      <th>SibSp</th>\n",
        "      <th>Parch</th>\n",
        "      <th>Fare</th>\n",
        "    </tr>\n",
        "  </thead>\n",
        "  <tbody>\n",
        "    <tr>\n",
        "      <th>count</th>\n",
        "      <td> 891.000000</td>\n",
        "      <td> 891.000000</td>\n",
        "      <td> 891.000000</td>\n",
        "      <td> 714.000000</td>\n",
        "      <td> 891.000000</td>\n",
        "      <td> 891.000000</td>\n",
        "      <td> 891.000000</td>\n",
        "    </tr>\n",
        "    <tr>\n",
        "      <th>mean</th>\n",
        "      <td> 446.000000</td>\n",
        "      <td>   0.383838</td>\n",
        "      <td>   2.308642</td>\n",
        "      <td>  29.699118</td>\n",
        "      <td>   0.523008</td>\n",
        "      <td>   0.381594</td>\n",
        "      <td>  32.204208</td>\n",
        "    </tr>\n",
        "    <tr>\n",
        "      <th>std</th>\n",
        "      <td> 257.353842</td>\n",
        "      <td>   0.486592</td>\n",
        "      <td>   0.836071</td>\n",
        "      <td>  14.526497</td>\n",
        "      <td>   1.102743</td>\n",
        "      <td>   0.806057</td>\n",
        "      <td>  49.693429</td>\n",
        "    </tr>\n",
        "    <tr>\n",
        "      <th>min</th>\n",
        "      <td>   1.000000</td>\n",
        "      <td>   0.000000</td>\n",
        "      <td>   1.000000</td>\n",
        "      <td>   0.420000</td>\n",
        "      <td>   0.000000</td>\n",
        "      <td>   0.000000</td>\n",
        "      <td>   0.000000</td>\n",
        "    </tr>\n",
        "    <tr>\n",
        "      <th>25%</th>\n",
        "      <td> 223.500000</td>\n",
        "      <td>   0.000000</td>\n",
        "      <td>   2.000000</td>\n",
        "      <td>  20.125000</td>\n",
        "      <td>   0.000000</td>\n",
        "      <td>   0.000000</td>\n",
        "      <td>   7.910400</td>\n",
        "    </tr>\n",
        "    <tr>\n",
        "      <th>50%</th>\n",
        "      <td> 446.000000</td>\n",
        "      <td>   0.000000</td>\n",
        "      <td>   3.000000</td>\n",
        "      <td>  28.000000</td>\n",
        "      <td>   0.000000</td>\n",
        "      <td>   0.000000</td>\n",
        "      <td>  14.454200</td>\n",
        "    </tr>\n",
        "    <tr>\n",
        "      <th>75%</th>\n",
        "      <td> 668.500000</td>\n",
        "      <td>   1.000000</td>\n",
        "      <td>   3.000000</td>\n",
        "      <td>  38.000000</td>\n",
        "      <td>   1.000000</td>\n",
        "      <td>   0.000000</td>\n",
        "      <td>  31.000000</td>\n",
        "    </tr>\n",
        "    <tr>\n",
        "      <th>max</th>\n",
        "      <td> 891.000000</td>\n",
        "      <td>   1.000000</td>\n",
        "      <td>   3.000000</td>\n",
        "      <td>  80.000000</td>\n",
        "      <td>   8.000000</td>\n",
        "      <td>   6.000000</td>\n",
        "      <td> 512.329200</td>\n",
        "    </tr>\n",
        "  </tbody>\n",
        "</table>\n",
        "</div>"
       ],
       "metadata": {},
       "output_type": "pyout",
       "prompt_number": 6,
       "text": [
        "       PassengerId    Survived      Pclass         Age       SibSp  \\\n",
        "count   891.000000  891.000000  891.000000  714.000000  891.000000   \n",
        "mean    446.000000    0.383838    2.308642   29.699118    0.523008   \n",
        "std     257.353842    0.486592    0.836071   14.526497    1.102743   \n",
        "min       1.000000    0.000000    1.000000    0.420000    0.000000   \n",
        "25%     223.500000    0.000000    2.000000   20.125000    0.000000   \n",
        "50%     446.000000    0.000000    3.000000   28.000000    0.000000   \n",
        "75%     668.500000    1.000000    3.000000   38.000000    1.000000   \n",
        "max     891.000000    1.000000    3.000000   80.000000    8.000000   \n",
        "\n",
        "            Parch        Fare  \n",
        "count  891.000000  891.000000  \n",
        "mean     0.381594   32.204208  \n",
        "std      0.806057   49.693429  \n",
        "min      0.000000    0.000000  \n",
        "25%      0.000000    7.910400  \n",
        "50%      0.000000   14.454200  \n",
        "75%      0.000000   31.000000  \n",
        "max      6.000000  512.329200  "
       ]
      }
     ],
     "prompt_number": 6
    },
    {
     "cell_type": "markdown",
     "metadata": {},
     "source": [
      "## Feature: Passenger Classes"
     ]
    },
    {
     "cell_type": "markdown",
     "metadata": {},
     "source": [
      "Get the unique values of Pclass:"
     ]
    },
    {
     "cell_type": "code",
     "collapsed": false,
     "input": [
      "passenger_classes = sort(df['Pclass'].unique())\n",
      "passenger_classes"
     ],
     "language": "python",
     "metadata": {},
     "outputs": [
      {
       "metadata": {},
       "output_type": "pyout",
       "prompt_number": 7,
       "text": [
        "array([1, 2, 3])"
       ]
      }
     ],
     "prompt_number": 7
    },
    {
     "cell_type": "markdown",
     "metadata": {},
     "source": [
      "Plot a histogram of Pclass:"
     ]
    },
    {
     "cell_type": "code",
     "collapsed": false,
     "input": [
      "df['Pclass'].hist(bins=len(passenger_classes))\n",
      "plt.title('Passenger Class Histogram')\n",
      "plt.xlabel('Passenger Class')\n",
      "plt.ylabel('Count')\n",
      "plt.show()"
     ],
     "language": "python",
     "metadata": {},
     "outputs": [
      {
       "metadata": {},
       "output_type": "display_data",
       "png": "[encoded data removed]",
       "text": [
        "<matplotlib.figure.Figure at 0x10a1fced0>"
       ]
      }
     ],
     "prompt_number": 8
    },
    {
     "cell_type": "markdown",
     "metadata": {},
     "source": [
      "Generate a cross tab of Pclass and Survived:"
     ]
    },
    {
     "cell_type": "code",
     "collapsed": false,
     "input": [
      "pclass_xt = pd.crosstab(df['Pclass'], df['Survived'])\n",
      "pclass_xt"
     ],
     "language": "python",
     "metadata": {},
     "outputs": [
      {
       "html": [
        "<div style=\"max-height:1000px;max-width:1500px;overflow:auto;\">\n",
        "<table border=\"1\" class=\"dataframe\">\n",
        "  <thead>\n",
        "    <tr style=\"text-align: right;\">\n",
        "      <th>Survived</th>\n",
        "      <th>0</th>\n",
        "      <th>1</th>\n",
        "    </tr>\n",
        "    <tr>\n",
        "      <th>Pclass</th>\n",
        "      <th></th>\n",
        "      <th></th>\n",
        "    </tr>\n",
        "  </thead>\n",
        "  <tbody>\n",
        "    <tr>\n",
        "      <th>1</th>\n",
        "      <td>  80</td>\n",
        "      <td> 136</td>\n",
        "    </tr>\n",
        "    <tr>\n",
        "      <th>2</th>\n",
        "      <td>  97</td>\n",
        "      <td>  87</td>\n",
        "    </tr>\n",
        "    <tr>\n",
        "      <th>3</th>\n",
        "      <td> 372</td>\n",
        "      <td> 119</td>\n",
        "    </tr>\n",
        "  </tbody>\n",
        "</table>\n",
        "</div>"
       ],
       "metadata": {},
       "output_type": "pyout",
       "prompt_number": 9,
       "text": [
        "Survived    0    1\n",
        "Pclass            \n",
        "1          80  136\n",
        "2          97   87\n",
        "3         372  119"
       ]
      }
     ],
     "prompt_number": 9
    },
    {
     "cell_type": "markdown",
     "metadata": {},
     "source": [
      "Normalize the cross tab to sum to 1:"
     ]
    },
    {
     "cell_type": "code",
     "collapsed": false,
     "input": [
      "pclass_xt_pct = pclass_xt.div(pclass_xt.sum(1).astype(float), axis=0)"
     ],
     "language": "python",
     "metadata": {},
     "outputs": [],
     "prompt_number": 10
    },
    {
     "cell_type": "markdown",
     "metadata": {},
     "source": [
      "Plot the cross tab:"
     ]
    },
    {
     "cell_type": "code",
     "collapsed": false,
     "input": [
      "pclass_xt_pct.plot(kind='bar', stacked=True)\n",
      "plt.title('Survival Rate by Passenger Classes')\n",
      "plt.xlabel('Passenger Class')\n",
      "plt.ylabel('Survival Rate')"
     ],
     "language": "python",
     "metadata": {},
     "outputs": [
      {
       "metadata": {},
       "output_type": "pyout",
       "prompt_number": 11,
       "text": [
        "<matplotlib.text.Text at 0x1020d9350>"
       ]
      },
      {
       "metadata": {},
       "output_type": "display_data",
       "png": "[encoded data removed]",
       "text": [
        "<matplotlib.figure.Figure at 0x10a1fc450>"
       ]
      }
     ],
     "prompt_number": 11
    },
    {
     "cell_type": "markdown",
     "metadata": {},
     "source": [
      "We can see that passenger class seems to have a significant impact on whether a passenger survived."
     ]
    },
    {
     "cell_type": "markdown",
     "metadata": {},
     "source": [
      "## Feature: Sex (Gender)"
     ]
    },
    {
     "cell_type": "markdown",
     "metadata": {},
     "source": [
      "We'll need to map Sex from a string to a number to prepare it for machine learning algorithms."
     ]
    },
    {
     "cell_type": "markdown",
     "metadata": {},
     "source": [
      "Prepare to map Sex from a string to a number representation:"
     ]
    },
    {
     "cell_type": "code",
     "collapsed": false,
     "input": [
      "genders = sort(df['Sex'].unique())\n",
      "genders_mapping = dict(zip(genders, range(0, len(genders) + 1)))\n",
      "genders_mapping"
     ],
     "language": "python",
     "metadata": {},
     "outputs": [
      {
       "metadata": {},
       "output_type": "pyout",
       "prompt_number": 12,
       "text": [
        "{'female': 0, 'male': 1}"
       ]
      }
     ],
     "prompt_number": 12
    },
    {
     "cell_type": "markdown",
     "metadata": {},
     "source": [
      "Transform Sex from a string to a number representation:"
     ]
    },
    {
     "cell_type": "code",
     "collapsed": false,
     "input": [
      "df['Sex_Val'] = df['Sex'].map({'female': 0, 'male': 1}).astype(int)"
     ],
     "language": "python",
     "metadata": {},
     "outputs": [],
     "prompt_number": 13
    },
    {
     "cell_type": "code",
     "collapsed": false,
     "input": [
      "df.head(3)"
     ],
     "language": "python",
     "metadata": {},
     "outputs": [
      {
       "html": [
        "<div style=\"max-height:1000px;max-width:1500px;overflow:auto;\">\n",
        "<table border=\"1\" class=\"dataframe\">\n",
        "  <thead>\n",
        "    <tr style=\"text-align: right;\">\n",
        "      <th></th>\n",
        "      <th>PassengerId</th>\n",
        "      <th>Survived</th>\n",
        "      <th>Pclass</th>\n",
        "      <th>Name</th>\n",
        "      <th>Sex</th>\n",
        "      <th>Age</th>\n",
        "      <th>SibSp</th>\n",
        "      <th>Parch</th>\n",
        "      <th>Ticket</th>\n",
        "      <th>Fare</th>\n",
        "      <th>Cabin</th>\n",
        "      <th>Embarked</th>\n",
        "      <th>Sex_Val</th>\n",
        "    </tr>\n",
        "  </thead>\n",
        "  <tbody>\n",
        "    <tr>\n",
        "      <th>0</th>\n",
        "      <td> 1</td>\n",
        "      <td> 0</td>\n",
        "      <td> 3</td>\n",
        "      <td>                           Braund, Mr. Owen Harris</td>\n",
        "      <td>   male</td>\n",
        "      <td> 22</td>\n",
        "      <td> 1</td>\n",
        "      <td> 0</td>\n",
        "      <td>        A/5 21171</td>\n",
        "      <td>  7.2500</td>\n",
        "      <td> NaN</td>\n",
        "      <td> S</td>\n",
        "      <td> 1</td>\n",
        "    </tr>\n",
        "    <tr>\n",
        "      <th>1</th>\n",
        "      <td> 2</td>\n",
        "      <td> 1</td>\n",
        "      <td> 1</td>\n",
        "      <td> Cumings, Mrs. John Bradley (Florence Briggs Th...</td>\n",
        "      <td> female</td>\n",
        "      <td> 38</td>\n",
        "      <td> 1</td>\n",
        "      <td> 0</td>\n",
        "      <td>         PC 17599</td>\n",
        "      <td> 71.2833</td>\n",
        "      <td> C85</td>\n",
        "      <td> C</td>\n",
        "      <td> 0</td>\n",
        "    </tr>\n",
        "    <tr>\n",
        "      <th>2</th>\n",
        "      <td> 3</td>\n",
        "      <td> 1</td>\n",
        "      <td> 3</td>\n",
        "      <td>                            Heikkinen, Miss. Laina</td>\n",
        "      <td> female</td>\n",
        "      <td> 26</td>\n",
        "      <td> 0</td>\n",
        "      <td> 0</td>\n",
        "      <td> STON/O2. 3101282</td>\n",
        "      <td>  7.9250</td>\n",
        "      <td> NaN</td>\n",
        "      <td> S</td>\n",
        "      <td> 0</td>\n",
        "    </tr>\n",
        "  </tbody>\n",
        "</table>\n",
        "</div>"
       ],
       "metadata": {},
       "output_type": "pyout",
       "prompt_number": 14,
       "text": [
        "   PassengerId  Survived  Pclass  \\\n",
        "0            1         0       3   \n",
        "1            2         1       1   \n",
        "2            3         1       3   \n",
        "\n",
        "                                                Name     Sex  Age  SibSp  \\\n",
        "0                            Braund, Mr. Owen Harris    male   22      1   \n",
        "1  Cumings, Mrs. John Bradley (Florence Briggs Th...  female   38      1   \n",
        "2                             Heikkinen, Miss. Laina  female   26      0   \n",
        "\n",
        "   Parch            Ticket     Fare Cabin Embarked  Sex_Val  \n",
        "0      0         A/5 21171   7.2500   NaN        S        1  \n",
        "1      0          PC 17599  71.2833   C85        C        0  \n",
        "2      0  STON/O2. 3101282   7.9250   NaN        S        0  "
       ]
      }
     ],
     "prompt_number": 14
    },
    {
     "cell_type": "code",
     "collapsed": false,
     "input": [
      "genders = sort(df['Sex_Val'].unique())\n",
      "genders"
     ],
     "language": "python",
     "metadata": {},
     "outputs": [
      {
       "metadata": {},
       "output_type": "pyout",
       "prompt_number": 15,
       "text": [
        "array([0, 1])"
       ]
      }
     ],
     "prompt_number": 15
    },
    {
     "cell_type": "markdown",
     "metadata": {},
     "source": [
      "Plot a histogram of the Sex_Val:"
     ]
    },
    {
     "cell_type": "code",
     "collapsed": false,
     "input": [
      "df['Sex_Val'].hist(bins=len(genders))\n",
      "plt.title('Gender Histogram')\n",
      "plt.xlabel('Gender')\n",
      "plt.ylabel('Count')\n",
      "plt.show()"
     ],
     "language": "python",
     "metadata": {},
     "outputs": [
      {
       "metadata": {},
       "output_type": "display_data",
       "png": "[encoded data removed]",
       "text": [
        "<matplotlib.figure.Figure at 0x1020e7d50>"
       ]
      }
     ],
     "prompt_number": 16
    },
    {
     "cell_type": "markdown",
     "metadata": {},
     "source": [
      "Plot a normalized cross tab for Sex_Val and Survived:"
     ]
    },
    {
     "cell_type": "code",
     "collapsed": false,
     "input": [
      "sex_val_xt = pd.crosstab(df['Sex_Val'], df['Survived'])\n",
      "sex_val_xt_pct = sex_val_xt.div(sex_val_xt.sum(1).astype(float), axis=0)\n",
      "sex_val_xt_pct.plot(kind='bar', stacked=True)\n",
      "plt.title('Survival Rate by Gender')\n",
      "plt.xlabel('Gender')\n",
      "plt.ylabel('Survival Rate')"
     ],
     "language": "python",
     "metadata": {},
     "outputs": [
      {
       "metadata": {},
       "output_type": "pyout",
       "prompt_number": 17,
       "text": [
        "<matplotlib.text.Text at 0x10a4532d0>"
       ]
      },
      {
       "metadata": {},
       "output_type": "display_data",
       "png": "[encoded data removed]",
       "text": [
        "<matplotlib.figure.Figure at 0x109fef350>"
       ]
      }
     ],
     "prompt_number": 17
    },
    {
     "cell_type": "markdown",
     "metadata": {},
     "source": [
      "The majority of females survived, whereas the majority of males did not."
     ]
    },
    {
     "cell_type": "markdown",
     "metadata": {},
     "source": [
      "Count males and females in each Pclass:"
     ]
    },
    {
     "cell_type": "code",
     "collapsed": false,
     "input": [
      "for p_class in passenger_classes:\n",
      "    print 'M: ', p_class, len(df[(df['Sex'] == 'male') & (df['Pclass'] == p_class)])\n",
      "    print 'F: ', p_class, len(df[(df['Sex'] == 'female') & (df['Pclass'] == p_class)])"
     ],
     "language": "python",
     "metadata": {},
     "outputs": [
      {
       "output_type": "stream",
       "stream": "stdout",
       "text": [
        "M:  1 122\n",
        "F:  1 94\n",
        "M:  2 108\n",
        "F:  2 76\n",
        "M:  3 347\n",
        "F:  3 144\n"
       ]
      }
     ],
     "prompt_number": 18
    },
    {
     "cell_type": "markdown",
     "metadata": {},
     "source": [
      "## Feature: Embarked"
     ]
    },
    {
     "cell_type": "markdown",
     "metadata": {},
     "source": [
      "The Embarked column might be an important feature but is missing a couple data points:"
     ]
    },
    {
     "cell_type": "code",
     "collapsed": false,
     "input": [
      "df[df['Embarked'].isnull()]"
     ],
     "language": "python",
     "metadata": {},
     "outputs": [
      {
       "html": [
        "<div style=\"max-height:1000px;max-width:1500px;overflow:auto;\">\n",
        "<table border=\"1\" class=\"dataframe\">\n",
        "  <thead>\n",
        "    <tr style=\"text-align: right;\">\n",
        "      <th></th>\n",
        "      <th>PassengerId</th>\n",
        "      <th>Survived</th>\n",
        "      <th>Pclass</th>\n",
        "      <th>Name</th>\n",
        "      <th>Sex</th>\n",
        "      <th>Age</th>\n",
        "      <th>SibSp</th>\n",
        "      <th>Parch</th>\n",
        "      <th>Ticket</th>\n",
        "      <th>Fare</th>\n",
        "      <th>Cabin</th>\n",
        "      <th>Embarked</th>\n",
        "      <th>Sex_Val</th>\n",
        "    </tr>\n",
        "  </thead>\n",
        "  <tbody>\n",
        "    <tr>\n",
        "      <th>61 </th>\n",
        "      <td>  62</td>\n",
        "      <td> 1</td>\n",
        "      <td> 1</td>\n",
        "      <td>                       Icard, Miss. Amelie</td>\n",
        "      <td> female</td>\n",
        "      <td> 38</td>\n",
        "      <td> 0</td>\n",
        "      <td> 0</td>\n",
        "      <td> 113572</td>\n",
        "      <td> 80</td>\n",
        "      <td> B28</td>\n",
        "      <td> NaN</td>\n",
        "      <td> 0</td>\n",
        "    </tr>\n",
        "    <tr>\n",
        "      <th>829</th>\n",
        "      <td> 830</td>\n",
        "      <td> 1</td>\n",
        "      <td> 1</td>\n",
        "      <td> Stone, Mrs. George Nelson (Martha Evelyn)</td>\n",
        "      <td> female</td>\n",
        "      <td> 62</td>\n",
        "      <td> 0</td>\n",
        "      <td> 0</td>\n",
        "      <td> 113572</td>\n",
        "      <td> 80</td>\n",
        "      <td> B28</td>\n",
        "      <td> NaN</td>\n",
        "      <td> 0</td>\n",
        "    </tr>\n",
        "  </tbody>\n",
        "</table>\n",
        "</div>"
       ],
       "metadata": {},
       "output_type": "pyout",
       "prompt_number": 19,
       "text": [
        "     PassengerId  Survived  Pclass                                       Name  \\\n",
        "61            62         1       1                        Icard, Miss. Amelie   \n",
        "829          830         1       1  Stone, Mrs. George Nelson (Martha Evelyn)   \n",
        "\n",
        "        Sex  Age  SibSp  Parch  Ticket  Fare Cabin Embarked  Sex_Val  \n",
        "61   female   38      0      0  113572    80   B28      NaN        0  \n",
        "829  female   62      0      0  113572    80   B28      NaN        0  "
       ]
      }
     ],
     "prompt_number": 19
    },
    {
     "cell_type": "markdown",
     "metadata": {},
     "source": [
      "Determine the unique values of Embarked:"
     ]
    },
    {
     "cell_type": "code",
     "collapsed": false,
     "input": [
      "embarked_locations = sort(df['Embarked'].unique())\n",
      "embarked_locations"
     ],
     "language": "python",
     "metadata": {},
     "outputs": [
      {
       "metadata": {},
       "output_type": "pyout",
       "prompt_number": 20,
       "text": [
        "array([nan, 'C', 'Q', 'S'], dtype=object)"
       ]
      }
     ],
     "prompt_number": 20
    },
    {
     "cell_type": "markdown",
     "metadata": {},
     "source": [
      "Prepare to map Embarked from a string to a number representation:"
     ]
    },
    {
     "cell_type": "code",
     "collapsed": false,
     "input": [
      "embarked_locations_mapping = dict(zip(embarked_locations, \n",
      "                                      range(0, len(embarked_locations) + 1)))\n",
      "embarked_locations_mapping"
     ],
     "language": "python",
     "metadata": {},
     "outputs": [
      {
       "metadata": {},
       "output_type": "pyout",
       "prompt_number": 21,
       "text": [
        "{nan: 0, 'C': 1, 'Q': 2, 'S': 3}"
       ]
      }
     ],
     "prompt_number": 21
    },
    {
     "cell_type": "markdown",
     "metadata": {},
     "source": [
      "Transform Embarked from a string to a number representation to prepare it for machine learning algorithms:"
     ]
    },
    {
     "cell_type": "code",
     "collapsed": false,
     "input": [
      "df['Embarked_Val'] = df['Embarked'].map(embarked_locations_mapping).astype(int)\n",
      "df.head()"
     ],
     "language": "python",
     "metadata": {},
     "outputs": [
      {
       "html": [
        "<div style=\"max-height:1000px;max-width:1500px;overflow:auto;\">\n",
        "<table border=\"1\" class=\"dataframe\">\n",
        "  <thead>\n",
        "    <tr style=\"text-align: right;\">\n",
        "      <th></th>\n",
        "      <th>PassengerId</th>\n",
        "      <th>Survived</th>\n",
        "      <th>Pclass</th>\n",
        "      <th>Name</th>\n",
        "      <th>Sex</th>\n",
        "      <th>Age</th>\n",
        "      <th>SibSp</th>\n",
        "      <th>Parch</th>\n",
        "      <th>Ticket</th>\n",
        "      <th>Fare</th>\n",
        "      <th>Cabin</th>\n",
        "      <th>Embarked</th>\n",
        "      <th>Sex_Val</th>\n",
        "      <th>Embarked_Val</th>\n",
        "    </tr>\n",
        "  </thead>\n",
        "  <tbody>\n",
        "    <tr>\n",
        "      <th>0</th>\n",
        "      <td> 1</td>\n",
        "      <td> 0</td>\n",
        "      <td> 3</td>\n",
        "      <td>                           Braund, Mr. Owen Harris</td>\n",
        "      <td>   male</td>\n",
        "      <td> 22</td>\n",
        "      <td> 1</td>\n",
        "      <td> 0</td>\n",
        "      <td>        A/5 21171</td>\n",
        "      <td>  7.2500</td>\n",
        "      <td>  NaN</td>\n",
        "      <td> S</td>\n",
        "      <td> 1</td>\n",
        "      <td> 3</td>\n",
        "    </tr>\n",
        "    <tr>\n",
        "      <th>1</th>\n",
        "      <td> 2</td>\n",
        "      <td> 1</td>\n",
        "      <td> 1</td>\n",
        "      <td> Cumings, Mrs. John Bradley (Florence Briggs Th...</td>\n",
        "      <td> female</td>\n",
        "      <td> 38</td>\n",
        "      <td> 1</td>\n",
        "      <td> 0</td>\n",
        "      <td>         PC 17599</td>\n",
        "      <td> 71.2833</td>\n",
        "      <td>  C85</td>\n",
        "      <td> C</td>\n",
        "      <td> 0</td>\n",
        "      <td> 1</td>\n",
        "    </tr>\n",
        "    <tr>\n",
        "      <th>2</th>\n",
        "      <td> 3</td>\n",
        "      <td> 1</td>\n",
        "      <td> 3</td>\n",
        "      <td>                            Heikkinen, Miss. Laina</td>\n",
        "      <td> female</td>\n",
        "      <td> 26</td>\n",
        "      <td> 0</td>\n",
        "      <td> 0</td>\n",
        "      <td> STON/O2. 3101282</td>\n",
        "      <td>  7.9250</td>\n",
        "      <td>  NaN</td>\n",
        "      <td> S</td>\n",
        "      <td> 0</td>\n",
        "      <td> 3</td>\n",
        "    </tr>\n",
        "    <tr>\n",
        "      <th>3</th>\n",
        "      <td> 4</td>\n",
        "      <td> 1</td>\n",
        "      <td> 1</td>\n",
        "      <td>      Futrelle, Mrs. Jacques Heath (Lily May Peel)</td>\n",
        "      <td> female</td>\n",
        "      <td> 35</td>\n",
        "      <td> 1</td>\n",
        "      <td> 0</td>\n",
        "      <td>           113803</td>\n",
        "      <td> 53.1000</td>\n",
        "      <td> C123</td>\n",
        "      <td> S</td>\n",
        "      <td> 0</td>\n",
        "      <td> 3</td>\n",
        "    </tr>\n",
        "    <tr>\n",
        "      <th>4</th>\n",
        "      <td> 5</td>\n",
        "      <td> 0</td>\n",
        "      <td> 3</td>\n",
        "      <td>                          Allen, Mr. William Henry</td>\n",
        "      <td>   male</td>\n",
        "      <td> 35</td>\n",
        "      <td> 0</td>\n",
        "      <td> 0</td>\n",
        "      <td>           373450</td>\n",
        "      <td>  8.0500</td>\n",
        "      <td>  NaN</td>\n",
        "      <td> S</td>\n",
        "      <td> 1</td>\n",
        "      <td> 3</td>\n",
        "    </tr>\n",
        "  </tbody>\n",
        "</table>\n",
        "</div>"
       ],
       "metadata": {},
       "output_type": "pyout",
       "prompt_number": 22,
       "text": [
        "   PassengerId  Survived  Pclass  \\\n",
        "0            1         0       3   \n",
        "1            2         1       1   \n",
        "2            3         1       3   \n",
        "3            4         1       1   \n",
        "4            5         0       3   \n",
        "\n",
        "                                                Name     Sex  Age  SibSp  \\\n",
        "0                            Braund, Mr. Owen Harris    male   22      1   \n",
        "1  Cumings, Mrs. John Bradley (Florence Briggs Th...  female   38      1   \n",
        "2                             Heikkinen, Miss. Laina  female   26      0   \n",
        "3       Futrelle, Mrs. Jacques Heath (Lily May Peel)  female   35      1   \n",
        "4                           Allen, Mr. William Henry    male   35      0   \n",
        "\n",
        "   Parch            Ticket     Fare Cabin Embarked  Sex_Val  Embarked_Val  \n",
        "0      0         A/5 21171   7.2500   NaN        S        1             3  \n",
        "1      0          PC 17599  71.2833   C85        C        0             1  \n",
        "2      0  STON/O2. 3101282   7.9250   NaN        S        0             3  \n",
        "3      0            113803  53.1000  C123        S        0             3  \n",
        "4      0            373450   8.0500   NaN        S        1             3  "
       ]
      }
     ],
     "prompt_number": 22
    },
    {
     "cell_type": "markdown",
     "metadata": {},
     "source": [
      "Count the number of passengers by Embarked:"
     ]
    },
    {
     "cell_type": "code",
     "collapsed": false,
     "input": [
      "for embarked in range(0, len(embarked_locations)):\n",
      "    print embarked, len(df[df['Embarked_Val'] == embarked])"
     ],
     "language": "python",
     "metadata": {},
     "outputs": [
      {
       "output_type": "stream",
       "stream": "stdout",
       "text": [
        "0 2\n",
        "1 168\n",
        "2 77\n",
        "3 644\n"
       ]
      }
     ],
     "prompt_number": 23
    },
    {
     "cell_type": "markdown",
     "metadata": {},
     "source": [
      "Plot the histogram for Embarked_Val:"
     ]
    },
    {
     "cell_type": "code",
     "collapsed": false,
     "input": [
      "df['Embarked_Val'].hist(bins=len(embarked_locations), range=(0, 3))\n",
      "plt.title('Port of Embarkation Histogram')\n",
      "plt.xlabel('Port of Embarkation')\n",
      "plt.ylabel('Count')\n",
      "plt.show()"
     ],
     "language": "python",
     "metadata": {},
     "outputs": [
      {
       "metadata": {},
       "output_type": "display_data",
       "png": "[encoded data removed]",
       "text": [
        "<matplotlib.figure.Figure at 0x10aeba7d0>"
       ]
      }
     ],
     "prompt_number": 49
    },
    {
     "cell_type": "markdown",
     "metadata": {},
     "source": [
      "Since the vast majority of passengers embarked in 'S': 3, we assign the two missing values in Embarked to this: "
     ]
    },
    {
     "cell_type": "code",
     "collapsed": false,
     "input": [
      "df[df['Embarked_Val'] == embarked_locations_mapping[nan]]"
     ],
     "language": "python",
     "metadata": {},
     "outputs": [
      {
       "html": [
        "<div style=\"max-height:1000px;max-width:1500px;overflow:auto;\">\n",
        "<table border=\"1\" class=\"dataframe\">\n",
        "  <thead>\n",
        "    <tr style=\"text-align: right;\">\n",
        "      <th></th>\n",
        "      <th>PassengerId</th>\n",
        "      <th>Survived</th>\n",
        "      <th>Pclass</th>\n",
        "      <th>Name</th>\n",
        "      <th>Sex</th>\n",
        "      <th>Age</th>\n",
        "      <th>SibSp</th>\n",
        "      <th>Parch</th>\n",
        "      <th>Ticket</th>\n",
        "      <th>Fare</th>\n",
        "      <th>Cabin</th>\n",
        "      <th>Embarked</th>\n",
        "      <th>Sex_Val</th>\n",
        "      <th>Embarked_Val</th>\n",
        "    </tr>\n",
        "  </thead>\n",
        "  <tbody>\n",
        "    <tr>\n",
        "      <th>61 </th>\n",
        "      <td>  62</td>\n",
        "      <td> 1</td>\n",
        "      <td> 1</td>\n",
        "      <td>                       Icard, Miss. Amelie</td>\n",
        "      <td> female</td>\n",
        "      <td> 38</td>\n",
        "      <td> 0</td>\n",
        "      <td> 0</td>\n",
        "      <td> 113572</td>\n",
        "      <td> 80</td>\n",
        "      <td> B28</td>\n",
        "      <td> NaN</td>\n",
        "      <td> 0</td>\n",
        "      <td> 0</td>\n",
        "    </tr>\n",
        "    <tr>\n",
        "      <th>829</th>\n",
        "      <td> 830</td>\n",
        "      <td> 1</td>\n",
        "      <td> 1</td>\n",
        "      <td> Stone, Mrs. George Nelson (Martha Evelyn)</td>\n",
        "      <td> female</td>\n",
        "      <td> 62</td>\n",
        "      <td> 0</td>\n",
        "      <td> 0</td>\n",
        "      <td> 113572</td>\n",
        "      <td> 80</td>\n",
        "      <td> B28</td>\n",
        "      <td> NaN</td>\n",
        "      <td> 0</td>\n",
        "      <td> 0</td>\n",
        "    </tr>\n",
        "  </tbody>\n",
        "</table>\n",
        "</div>"
       ],
       "metadata": {},
       "output_type": "pyout",
       "prompt_number": 25,
       "text": [
        "     PassengerId  Survived  Pclass                                       Name  \\\n",
        "61            62         1       1                        Icard, Miss. Amelie   \n",
        "829          830         1       1  Stone, Mrs. George Nelson (Martha Evelyn)   \n",
        "\n",
        "        Sex  Age  SibSp  Parch  Ticket  Fare Cabin Embarked  Sex_Val  \\\n",
        "61   female   38      0      0  113572    80   B28      NaN        0   \n",
        "829  female   62      0      0  113572    80   B28      NaN        0   \n",
        "\n",
        "     Embarked_Val  \n",
        "61              0  \n",
        "829             0  "
       ]
      }
     ],
     "prompt_number": 25
    },
    {
     "cell_type": "code",
     "collapsed": false,
     "input": [
      "df.replace({'Embarked_Val' : { embarked_locations_mapping[nan] : embarked_locations_mapping['S'] }}, inplace=True)"
     ],
     "language": "python",
     "metadata": {},
     "outputs": [],
     "prompt_number": 26
    },
    {
     "cell_type": "markdown",
     "metadata": {},
     "source": [
      "Verify we do not have any more NaNs for Embarked_Val:"
     ]
    },
    {
     "cell_type": "code",
     "collapsed": false,
     "input": [
      "sort(df['Embarked_Val'].unique())"
     ],
     "language": "python",
     "metadata": {},
     "outputs": [
      {
       "metadata": {},
       "output_type": "pyout",
       "prompt_number": 27,
       "text": [
        "array([1, 2, 3])"
       ]
      }
     ],
     "prompt_number": 27
    },
    {
     "cell_type": "markdown",
     "metadata": {},
     "source": [
      "Plot a normalized cross tab for Embarked_Val and Survived:"
     ]
    },
    {
     "cell_type": "code",
     "collapsed": false,
     "input": [
      "embarked_val_xt = pd.crosstab(df['Embarked_Val'], df['Survived'])\n",
      "embarked_val_xt_pct = embarked_val_xt.div(embarked_val_xt.sum(1).astype(float), axis=0)\n",
      "embarked_val_xt_pct.plot(kind='bar', stacked=True)\n",
      "plt.title('Survival Rate by Port of Embarkation')\n",
      "plt.xlabel('Port of Embarkation')\n",
      "plt.ylabel('Survival Rate')"
     ],
     "language": "python",
     "metadata": {},
     "outputs": [
      {
       "metadata": {},
       "output_type": "pyout",
       "prompt_number": 51,
       "text": [
        "<matplotlib.text.Text at 0x10d280390>"
       ]
      },
      {
       "metadata": {},
       "output_type": "display_data",
       "png": "[encoded data removed]",
       "text": [
        "<matplotlib.figure.Figure at 0x10d6688d0>"
       ]
      }
     ],
     "prompt_number": 51
    },
    {
     "cell_type": "markdown",
     "metadata": {},
     "source": [
      "It appears those that embarked in location 'C': 1 had the highest rate of survival."
     ]
    },
    {
     "cell_type": "markdown",
     "metadata": {},
     "source": [
      "## Feature: Age"
     ]
    },
    {
     "cell_type": "markdown",
     "metadata": {},
     "source": [
      "The Age column seems like an important feature but is missing many values.  \n",
      "\n",
      "Get the first 10 rows of the Age column:"
     ]
    },
    {
     "cell_type": "code",
     "collapsed": false,
     "input": [
      "df['Age'][:10]"
     ],
     "language": "python",
     "metadata": {},
     "outputs": [
      {
       "metadata": {},
       "output_type": "pyout",
       "prompt_number": 29,
       "text": [
        "0    22\n",
        "1    38\n",
        "2    26\n",
        "3    35\n",
        "4    35\n",
        "5   NaN\n",
        "6    54\n",
        "7     2\n",
        "8    27\n",
        "9    14\n",
        "Name: Age, dtype: float64"
       ]
      }
     ],
     "prompt_number": 29
    },
    {
     "cell_type": "markdown",
     "metadata": {},
     "source": [
      "Display the Age histogram:"
     ]
    },
    {
     "cell_type": "code",
     "collapsed": false,
     "input": [
      "df['Age'].hist()\n",
      "plt.title('Age Histogram')\n",
      "plt.xlabel('Age')\n",
      "plt.ylabel('Count')\n",
      "plt.show()"
     ],
     "language": "python",
     "metadata": {},
     "outputs": [
      {
       "metadata": {},
       "output_type": "display_data",
       "png": "[encoded data removed]",
       "text": [
        "<matplotlib.figure.Figure at 0x10d668dd0>"
       ]
      }
     ],
     "prompt_number": 52
    },
    {
     "cell_type": "markdown",
     "metadata": {},
     "source": [
      "Filter the DataFrame to the columns we'll be looking at with Age:"
     ]
    },
    {
     "cell_type": "code",
     "collapsed": false,
     "input": [
      "df[['Sex', 'Pclass', 'Age']].head(3)"
     ],
     "language": "python",
     "metadata": {},
     "outputs": [
      {
       "html": [
        "<div style=\"max-height:1000px;max-width:1500px;overflow:auto;\">\n",
        "<table border=\"1\" class=\"dataframe\">\n",
        "  <thead>\n",
        "    <tr style=\"text-align: right;\">\n",
        "      <th></th>\n",
        "      <th>Sex</th>\n",
        "      <th>Pclass</th>\n",
        "      <th>Age</th>\n",
        "    </tr>\n",
        "  </thead>\n",
        "  <tbody>\n",
        "    <tr>\n",
        "      <th>0</th>\n",
        "      <td>   male</td>\n",
        "      <td> 3</td>\n",
        "      <td> 22</td>\n",
        "    </tr>\n",
        "    <tr>\n",
        "      <th>1</th>\n",
        "      <td> female</td>\n",
        "      <td> 1</td>\n",
        "      <td> 38</td>\n",
        "    </tr>\n",
        "    <tr>\n",
        "      <th>2</th>\n",
        "      <td> female</td>\n",
        "      <td> 3</td>\n",
        "      <td> 26</td>\n",
        "    </tr>\n",
        "  </tbody>\n",
        "</table>\n",
        "</div>"
       ],
       "metadata": {},
       "output_type": "pyout",
       "prompt_number": 31,
       "text": [
        "      Sex  Pclass  Age\n",
        "0    male       3   22\n",
        "1  female       1   38\n",
        "2  female       3   26"
       ]
      }
     ],
     "prompt_number": 31
    },
    {
     "cell_type": "markdown",
     "metadata": {},
     "source": [
      "Determine the max age:"
     ]
    },
    {
     "cell_type": "code",
     "collapsed": false,
     "input": [
      "max_age = max(df['Age'])\n",
      "max_age"
     ],
     "language": "python",
     "metadata": {},
     "outputs": [
      {
       "metadata": {},
       "output_type": "pyout",
       "prompt_number": 32,
       "text": [
        "80.0"
       ]
      }
     ],
     "prompt_number": 32
    },
    {
     "cell_type": "markdown",
     "metadata": {},
     "source": [
      "Filter the DataFrame to see more information on seniors Age > 60:"
     ]
    },
    {
     "cell_type": "code",
     "collapsed": false,
     "input": [
      "df[df['Age'] > 60][['Sex', 'Pclass', 'Age']]"
     ],
     "language": "python",
     "metadata": {},
     "outputs": [
      {
       "html": [
        "<div style=\"max-height:1000px;max-width:1500px;overflow:auto;\">\n",
        "<table border=\"1\" class=\"dataframe\">\n",
        "  <thead>\n",
        "    <tr style=\"text-align: right;\">\n",
        "      <th></th>\n",
        "      <th>Sex</th>\n",
        "      <th>Pclass</th>\n",
        "      <th>Age</th>\n",
        "    </tr>\n",
        "  </thead>\n",
        "  <tbody>\n",
        "    <tr>\n",
        "      <th>33 </th>\n",
        "      <td>   male</td>\n",
        "      <td> 2</td>\n",
        "      <td> 66.0</td>\n",
        "    </tr>\n",
        "    <tr>\n",
        "      <th>54 </th>\n",
        "      <td>   male</td>\n",
        "      <td> 1</td>\n",
        "      <td> 65.0</td>\n",
        "    </tr>\n",
        "    <tr>\n",
        "      <th>96 </th>\n",
        "      <td>   male</td>\n",
        "      <td> 1</td>\n",
        "      <td> 71.0</td>\n",
        "    </tr>\n",
        "    <tr>\n",
        "      <th>116</th>\n",
        "      <td>   male</td>\n",
        "      <td> 3</td>\n",
        "      <td> 70.5</td>\n",
        "    </tr>\n",
        "    <tr>\n",
        "      <th>170</th>\n",
        "      <td>   male</td>\n",
        "      <td> 1</td>\n",
        "      <td> 61.0</td>\n",
        "    </tr>\n",
        "    <tr>\n",
        "      <th>252</th>\n",
        "      <td>   male</td>\n",
        "      <td> 1</td>\n",
        "      <td> 62.0</td>\n",
        "    </tr>\n",
        "    <tr>\n",
        "      <th>275</th>\n",
        "      <td> female</td>\n",
        "      <td> 1</td>\n",
        "      <td> 63.0</td>\n",
        "    </tr>\n",
        "    <tr>\n",
        "      <th>280</th>\n",
        "      <td>   male</td>\n",
        "      <td> 3</td>\n",
        "      <td> 65.0</td>\n",
        "    </tr>\n",
        "    <tr>\n",
        "      <th>326</th>\n",
        "      <td>   male</td>\n",
        "      <td> 3</td>\n",
        "      <td> 61.0</td>\n",
        "    </tr>\n",
        "    <tr>\n",
        "      <th>438</th>\n",
        "      <td>   male</td>\n",
        "      <td> 1</td>\n",
        "      <td> 64.0</td>\n",
        "    </tr>\n",
        "    <tr>\n",
        "      <th>456</th>\n",
        "      <td>   male</td>\n",
        "      <td> 1</td>\n",
        "      <td> 65.0</td>\n",
        "    </tr>\n",
        "    <tr>\n",
        "      <th>483</th>\n",
        "      <td> female</td>\n",
        "      <td> 3</td>\n",
        "      <td> 63.0</td>\n",
        "    </tr>\n",
        "    <tr>\n",
        "      <th>493</th>\n",
        "      <td>   male</td>\n",
        "      <td> 1</td>\n",
        "      <td> 71.0</td>\n",
        "    </tr>\n",
        "    <tr>\n",
        "      <th>545</th>\n",
        "      <td>   male</td>\n",
        "      <td> 1</td>\n",
        "      <td> 64.0</td>\n",
        "    </tr>\n",
        "    <tr>\n",
        "      <th>555</th>\n",
        "      <td>   male</td>\n",
        "      <td> 1</td>\n",
        "      <td> 62.0</td>\n",
        "    </tr>\n",
        "    <tr>\n",
        "      <th>570</th>\n",
        "      <td>   male</td>\n",
        "      <td> 2</td>\n",
        "      <td> 62.0</td>\n",
        "    </tr>\n",
        "    <tr>\n",
        "      <th>625</th>\n",
        "      <td>   male</td>\n",
        "      <td> 1</td>\n",
        "      <td> 61.0</td>\n",
        "    </tr>\n",
        "    <tr>\n",
        "      <th>630</th>\n",
        "      <td>   male</td>\n",
        "      <td> 1</td>\n",
        "      <td> 80.0</td>\n",
        "    </tr>\n",
        "    <tr>\n",
        "      <th>672</th>\n",
        "      <td>   male</td>\n",
        "      <td> 2</td>\n",
        "      <td> 70.0</td>\n",
        "    </tr>\n",
        "    <tr>\n",
        "      <th>745</th>\n",
        "      <td>   male</td>\n",
        "      <td> 1</td>\n",
        "      <td> 70.0</td>\n",
        "    </tr>\n",
        "    <tr>\n",
        "      <th>829</th>\n",
        "      <td> female</td>\n",
        "      <td> 1</td>\n",
        "      <td> 62.0</td>\n",
        "    </tr>\n",
        "    <tr>\n",
        "      <th>851</th>\n",
        "      <td>   male</td>\n",
        "      <td> 3</td>\n",
        "      <td> 74.0</td>\n",
        "    </tr>\n",
        "  </tbody>\n",
        "</table>\n",
        "</div>"
       ],
       "metadata": {},
       "output_type": "pyout",
       "prompt_number": 33,
       "text": [
        "        Sex  Pclass   Age\n",
        "33     male       2  66.0\n",
        "54     male       1  65.0\n",
        "96     male       1  71.0\n",
        "116    male       3  70.5\n",
        "170    male       1  61.0\n",
        "252    male       1  62.0\n",
        "275  female       1  63.0\n",
        "280    male       3  65.0\n",
        "326    male       3  61.0\n",
        "438    male       1  64.0\n",
        "456    male       1  65.0\n",
        "483  female       3  63.0\n",
        "493    male       1  71.0\n",
        "545    male       1  64.0\n",
        "555    male       1  62.0\n",
        "570    male       2  62.0\n",
        "625    male       1  61.0\n",
        "630    male       1  80.0\n",
        "672    male       2  70.0\n",
        "745    male       1  70.0\n",
        "829  female       1  62.0\n",
        "851    male       3  74.0"
       ]
      }
     ],
     "prompt_number": 33
    },
    {
     "cell_type": "markdown",
     "metadata": {},
     "source": [
      "We see that most are men, most are 1st class, and most perished.  Age seems like a good feature to predict whether a passenger survived, but we'll need to do some cleaning, as there are missing values.  Missing values pose a problem for machine learning algorithms.\n",
      "\n",
      "Filter to view missing Age values:"
     ]
    },
    {
     "cell_type": "code",
     "collapsed": false,
     "input": [
      "df[df['Age'].isnull()][['Sex', 'Pclass', 'Age']].head(3)"
     ],
     "language": "python",
     "metadata": {},
     "outputs": [
      {
       "html": [
        "<div style=\"max-height:1000px;max-width:1500px;overflow:auto;\">\n",
        "<table border=\"1\" class=\"dataframe\">\n",
        "  <thead>\n",
        "    <tr style=\"text-align: right;\">\n",
        "      <th></th>\n",
        "      <th>Sex</th>\n",
        "      <th>Pclass</th>\n",
        "      <th>Age</th>\n",
        "    </tr>\n",
        "  </thead>\n",
        "  <tbody>\n",
        "    <tr>\n",
        "      <th>5 </th>\n",
        "      <td>   male</td>\n",
        "      <td> 3</td>\n",
        "      <td>NaN</td>\n",
        "    </tr>\n",
        "    <tr>\n",
        "      <th>17</th>\n",
        "      <td>   male</td>\n",
        "      <td> 2</td>\n",
        "      <td>NaN</td>\n",
        "    </tr>\n",
        "    <tr>\n",
        "      <th>19</th>\n",
        "      <td> female</td>\n",
        "      <td> 3</td>\n",
        "      <td>NaN</td>\n",
        "    </tr>\n",
        "  </tbody>\n",
        "</table>\n",
        "</div>"
       ],
       "metadata": {},
       "output_type": "pyout",
       "prompt_number": 34,
       "text": [
        "       Sex  Pclass  Age\n",
        "5     male       3  NaN\n",
        "17    male       2  NaN\n",
        "19  female       3  NaN"
       ]
      }
     ],
     "prompt_number": 34
    },
    {
     "cell_type": "markdown",
     "metadata": {},
     "source": [
      "Determine the Age typical for each passenger class by Sex_Val.  We'll use the median as the Age histogram above seems to be right skewed:"
     ]
    },
    {
     "cell_type": "code",
     "collapsed": false,
     "input": [
      "median_ages = np.zeros((len(genders), len(passenger_classes)))\n",
      "median_ages"
     ],
     "language": "python",
     "metadata": {},
     "outputs": [
      {
       "metadata": {},
       "output_type": "pyout",
       "prompt_number": 35,
       "text": [
        "array([[ 0.,  0.,  0.],\n",
        "       [ 0.,  0.,  0.]])"
       ]
      }
     ],
     "prompt_number": 35
    },
    {
     "cell_type": "markdown",
     "metadata": {},
     "source": [
      "Fill in our median ages array:"
     ]
    },
    {
     "cell_type": "code",
     "collapsed": false,
     "input": [
      "for genderIdx in range(0, len(genders)):\n",
      "    for pclassIdx in range(0, len(passenger_classes)):\n",
      "        median_age = df[(df['Sex_Val'] == genderIdx) & \\\n",
      "                        (df['Pclass'] == pclassIdx + 1)]\n",
      "        median_ages[genderIdx, pclassIdx] = \\\n",
      "            median_age['Age'].dropna().median()\n",
      "\n",
      "        df.loc[(df['Age'].isnull()) & \n",
      "               (df['Sex_Val'] == genderIdx) & \n",
      "               (df['Pclass'] == pclassIdx + 1), \\\n",
      "               'AgeFill'] = median_age\n",
      "        \n",
      "median_ages"
     ],
     "language": "python",
     "metadata": {},
     "outputs": [
      {
       "metadata": {},
       "output_type": "pyout",
       "prompt_number": 36,
       "text": [
        "array([[ 35. ,  28. ,  21.5],\n",
        "       [ 40. ,  30. ,  25. ]])"
       ]
      }
     ],
     "prompt_number": 36
    },
    {
     "cell_type": "markdown",
     "metadata": {},
     "source": [
      "Make a copy of Age:"
     ]
    },
    {
     "cell_type": "code",
     "collapsed": false,
     "input": [
      "df['AgeFill'] = df['Age']\n",
      "df.head(3)"
     ],
     "language": "python",
     "metadata": {},
     "outputs": [
      {
       "html": [
        "<div style=\"max-height:1000px;max-width:1500px;overflow:auto;\">\n",
        "<table border=\"1\" class=\"dataframe\">\n",
        "  <thead>\n",
        "    <tr style=\"text-align: right;\">\n",
        "      <th></th>\n",
        "      <th>PassengerId</th>\n",
        "      <th>Survived</th>\n",
        "      <th>Pclass</th>\n",
        "      <th>Name</th>\n",
        "      <th>Sex</th>\n",
        "      <th>Age</th>\n",
        "      <th>SibSp</th>\n",
        "      <th>Parch</th>\n",
        "      <th>Ticket</th>\n",
        "      <th>Fare</th>\n",
        "      <th>Cabin</th>\n",
        "      <th>Embarked</th>\n",
        "      <th>Sex_Val</th>\n",
        "      <th>Embarked_Val</th>\n",
        "      <th>AgeFill</th>\n",
        "    </tr>\n",
        "  </thead>\n",
        "  <tbody>\n",
        "    <tr>\n",
        "      <th>0</th>\n",
        "      <td> 1</td>\n",
        "      <td> 0</td>\n",
        "      <td> 3</td>\n",
        "      <td>                           Braund, Mr. Owen Harris</td>\n",
        "      <td>   male</td>\n",
        "      <td> 22</td>\n",
        "      <td> 1</td>\n",
        "      <td> 0</td>\n",
        "      <td>        A/5 21171</td>\n",
        "      <td>  7.2500</td>\n",
        "      <td> NaN</td>\n",
        "      <td> S</td>\n",
        "      <td> 1</td>\n",
        "      <td> 3</td>\n",
        "      <td> 22</td>\n",
        "    </tr>\n",
        "    <tr>\n",
        "      <th>1</th>\n",
        "      <td> 2</td>\n",
        "      <td> 1</td>\n",
        "      <td> 1</td>\n",
        "      <td> Cumings, Mrs. John Bradley (Florence Briggs Th...</td>\n",
        "      <td> female</td>\n",
        "      <td> 38</td>\n",
        "      <td> 1</td>\n",
        "      <td> 0</td>\n",
        "      <td>         PC 17599</td>\n",
        "      <td> 71.2833</td>\n",
        "      <td> C85</td>\n",
        "      <td> C</td>\n",
        "      <td> 0</td>\n",
        "      <td> 1</td>\n",
        "      <td> 38</td>\n",
        "    </tr>\n",
        "    <tr>\n",
        "      <th>2</th>\n",
        "      <td> 3</td>\n",
        "      <td> 1</td>\n",
        "      <td> 3</td>\n",
        "      <td>                            Heikkinen, Miss. Laina</td>\n",
        "      <td> female</td>\n",
        "      <td> 26</td>\n",
        "      <td> 0</td>\n",
        "      <td> 0</td>\n",
        "      <td> STON/O2. 3101282</td>\n",
        "      <td>  7.9250</td>\n",
        "      <td> NaN</td>\n",
        "      <td> S</td>\n",
        "      <td> 0</td>\n",
        "      <td> 3</td>\n",
        "      <td> 26</td>\n",
        "    </tr>\n",
        "  </tbody>\n",
        "</table>\n",
        "</div>"
       ],
       "metadata": {},
       "output_type": "pyout",
       "prompt_number": 37,
       "text": [
        "   PassengerId  Survived  Pclass  \\\n",
        "0            1         0       3   \n",
        "1            2         1       1   \n",
        "2            3         1       3   \n",
        "\n",
        "                                                Name     Sex  Age  SibSp  \\\n",
        "0                            Braund, Mr. Owen Harris    male   22      1   \n",
        "1  Cumings, Mrs. John Bradley (Florence Briggs Th...  female   38      1   \n",
        "2                             Heikkinen, Miss. Laina  female   26      0   \n",
        "\n",
        "   Parch            Ticket     Fare Cabin Embarked  Sex_Val  Embarked_Val  \\\n",
        "0      0         A/5 21171   7.2500   NaN        S        1             3   \n",
        "1      0          PC 17599  71.2833   C85        C        0             1   \n",
        "2      0  STON/O2. 3101282   7.9250   NaN        S        0             3   \n",
        "\n",
        "   AgeFill  \n",
        "0       22  \n",
        "1       38  \n",
        "2       26  "
       ]
      }
     ],
     "prompt_number": 37
    },
    {
     "cell_type": "markdown",
     "metadata": {},
     "source": [
      "Populate AgeFill based on our median_ages array:"
     ]
    },
    {
     "cell_type": "code",
     "collapsed": false,
     "input": [
      "for genderIdx in range(0, len(genders)):\n",
      "    for pclassIdx in range(0, len(passenger_classes)):\n",
      "        df.loc[(df['Age'].isnull()) & \n",
      "               (df['Sex_Val'] == genderIdx) & \n",
      "               (df['Pclass'] == pclassIdx + 1), \\\n",
      "               'AgeFill'] = median_ages[genderIdx, pclassIdx]\n",
      "        \n",
      "df[df['Age'].isnull()].head(3)"
     ],
     "language": "python",
     "metadata": {},
     "outputs": [
      {
       "html": [
        "<div style=\"max-height:1000px;max-width:1500px;overflow:auto;\">\n",
        "<table border=\"1\" class=\"dataframe\">\n",
        "  <thead>\n",
        "    <tr style=\"text-align: right;\">\n",
        "      <th></th>\n",
        "      <th>PassengerId</th>\n",
        "      <th>Survived</th>\n",
        "      <th>Pclass</th>\n",
        "      <th>Name</th>\n",
        "      <th>Sex</th>\n",
        "      <th>Age</th>\n",
        "      <th>SibSp</th>\n",
        "      <th>Parch</th>\n",
        "      <th>Ticket</th>\n",
        "      <th>Fare</th>\n",
        "      <th>Cabin</th>\n",
        "      <th>Embarked</th>\n",
        "      <th>Sex_Val</th>\n",
        "      <th>Embarked_Val</th>\n",
        "      <th>AgeFill</th>\n",
        "    </tr>\n",
        "  </thead>\n",
        "  <tbody>\n",
        "    <tr>\n",
        "      <th>5 </th>\n",
        "      <td>  6</td>\n",
        "      <td> 0</td>\n",
        "      <td> 3</td>\n",
        "      <td>             Moran, Mr. James</td>\n",
        "      <td>   male</td>\n",
        "      <td>NaN</td>\n",
        "      <td> 0</td>\n",
        "      <td> 0</td>\n",
        "      <td> 330877</td>\n",
        "      <td>  8.4583</td>\n",
        "      <td> NaN</td>\n",
        "      <td> Q</td>\n",
        "      <td> 1</td>\n",
        "      <td> 2</td>\n",
        "      <td> 25.0</td>\n",
        "    </tr>\n",
        "    <tr>\n",
        "      <th>17</th>\n",
        "      <td> 18</td>\n",
        "      <td> 1</td>\n",
        "      <td> 2</td>\n",
        "      <td> Williams, Mr. Charles Eugene</td>\n",
        "      <td>   male</td>\n",
        "      <td>NaN</td>\n",
        "      <td> 0</td>\n",
        "      <td> 0</td>\n",
        "      <td> 244373</td>\n",
        "      <td> 13.0000</td>\n",
        "      <td> NaN</td>\n",
        "      <td> S</td>\n",
        "      <td> 1</td>\n",
        "      <td> 3</td>\n",
        "      <td> 30.0</td>\n",
        "    </tr>\n",
        "    <tr>\n",
        "      <th>19</th>\n",
        "      <td> 20</td>\n",
        "      <td> 1</td>\n",
        "      <td> 3</td>\n",
        "      <td>      Masselmani, Mrs. Fatima</td>\n",
        "      <td> female</td>\n",
        "      <td>NaN</td>\n",
        "      <td> 0</td>\n",
        "      <td> 0</td>\n",
        "      <td>   2649</td>\n",
        "      <td>  7.2250</td>\n",
        "      <td> NaN</td>\n",
        "      <td> C</td>\n",
        "      <td> 0</td>\n",
        "      <td> 1</td>\n",
        "      <td> 21.5</td>\n",
        "    </tr>\n",
        "  </tbody>\n",
        "</table>\n",
        "</div>"
       ],
       "metadata": {},
       "output_type": "pyout",
       "prompt_number": 38,
       "text": [
        "    PassengerId  Survived  Pclass                          Name     Sex  Age  \\\n",
        "5             6         0       3              Moran, Mr. James    male  NaN   \n",
        "17           18         1       2  Williams, Mr. Charles Eugene    male  NaN   \n",
        "19           20         1       3       Masselmani, Mrs. Fatima  female  NaN   \n",
        "\n",
        "    SibSp  Parch  Ticket     Fare Cabin Embarked  Sex_Val  Embarked_Val  \\\n",
        "5       0      0  330877   8.4583   NaN        Q        1             2   \n",
        "17      0      0  244373  13.0000   NaN        S        1             3   \n",
        "19      0      0    2649   7.2250   NaN        C        0             1   \n",
        "\n",
        "    AgeFill  \n",
        "5      25.0  \n",
        "17     30.0  \n",
        "19     21.5  "
       ]
      }
     ],
     "prompt_number": 38
    },
    {
     "cell_type": "markdown",
     "metadata": {},
     "source": [
      "Ensure AgeFill does not contain any missing values:"
     ]
    },
    {
     "cell_type": "code",
     "collapsed": false,
     "input": [
      "len(df[df['AgeFill'].isnull()])"
     ],
     "language": "python",
     "metadata": {},
     "outputs": [
      {
       "metadata": {},
       "output_type": "pyout",
       "prompt_number": 39,
       "text": [
        "0"
       ]
      }
     ],
     "prompt_number": 39
    },
    {
     "cell_type": "markdown",
     "metadata": {},
     "source": [
      "Create a feature that records whether Age was originally missing:"
     ]
    },
    {
     "cell_type": "code",
     "collapsed": false,
     "input": [
      "df['AgeIsNull'] = pd.isnull(df['Age']).astype(int)\n",
      "df.head(3)"
     ],
     "language": "python",
     "metadata": {},
     "outputs": [
      {
       "html": [
        "<div style=\"max-height:1000px;max-width:1500px;overflow:auto;\">\n",
        "<table border=\"1\" class=\"dataframe\">\n",
        "  <thead>\n",
        "    <tr style=\"text-align: right;\">\n",
        "      <th></th>\n",
        "      <th>PassengerId</th>\n",
        "      <th>Survived</th>\n",
        "      <th>Pclass</th>\n",
        "      <th>Name</th>\n",
        "      <th>Sex</th>\n",
        "      <th>Age</th>\n",
        "      <th>SibSp</th>\n",
        "      <th>Parch</th>\n",
        "      <th>Ticket</th>\n",
        "      <th>Fare</th>\n",
        "      <th>Cabin</th>\n",
        "      <th>Embarked</th>\n",
        "      <th>Sex_Val</th>\n",
        "      <th>Embarked_Val</th>\n",
        "      <th>AgeFill</th>\n",
        "      <th>AgeIsNull</th>\n",
        "    </tr>\n",
        "  </thead>\n",
        "  <tbody>\n",
        "    <tr>\n",
        "      <th>0</th>\n",
        "      <td> 1</td>\n",
        "      <td> 0</td>\n",
        "      <td> 3</td>\n",
        "      <td>                           Braund, Mr. Owen Harris</td>\n",
        "      <td>   male</td>\n",
        "      <td> 22</td>\n",
        "      <td> 1</td>\n",
        "      <td> 0</td>\n",
        "      <td>        A/5 21171</td>\n",
        "      <td>  7.2500</td>\n",
        "      <td> NaN</td>\n",
        "      <td> S</td>\n",
        "      <td> 1</td>\n",
        "      <td> 3</td>\n",
        "      <td> 22</td>\n",
        "      <td> 0</td>\n",
        "    </tr>\n",
        "    <tr>\n",
        "      <th>1</th>\n",
        "      <td> 2</td>\n",
        "      <td> 1</td>\n",
        "      <td> 1</td>\n",
        "      <td> Cumings, Mrs. John Bradley (Florence Briggs Th...</td>\n",
        "      <td> female</td>\n",
        "      <td> 38</td>\n",
        "      <td> 1</td>\n",
        "      <td> 0</td>\n",
        "      <td>         PC 17599</td>\n",
        "      <td> 71.2833</td>\n",
        "      <td> C85</td>\n",
        "      <td> C</td>\n",
        "      <td> 0</td>\n",
        "      <td> 1</td>\n",
        "      <td> 38</td>\n",
        "      <td> 0</td>\n",
        "    </tr>\n",
        "    <tr>\n",
        "      <th>2</th>\n",
        "      <td> 3</td>\n",
        "      <td> 1</td>\n",
        "      <td> 3</td>\n",
        "      <td>                            Heikkinen, Miss. Laina</td>\n",
        "      <td> female</td>\n",
        "      <td> 26</td>\n",
        "      <td> 0</td>\n",
        "      <td> 0</td>\n",
        "      <td> STON/O2. 3101282</td>\n",
        "      <td>  7.9250</td>\n",
        "      <td> NaN</td>\n",
        "      <td> S</td>\n",
        "      <td> 0</td>\n",
        "      <td> 3</td>\n",
        "      <td> 26</td>\n",
        "      <td> 0</td>\n",
        "    </tr>\n",
        "  </tbody>\n",
        "</table>\n",
        "</div>"
       ],
       "metadata": {},
       "output_type": "pyout",
       "prompt_number": 40,
       "text": [
        "   PassengerId  Survived  Pclass  \\\n",
        "0            1         0       3   \n",
        "1            2         1       1   \n",
        "2            3         1       3   \n",
        "\n",
        "                                                Name     Sex  Age  SibSp  \\\n",
        "0                            Braund, Mr. Owen Harris    male   22      1   \n",
        "1  Cumings, Mrs. John Bradley (Florence Briggs Th...  female   38      1   \n",
        "2                             Heikkinen, Miss. Laina  female   26      0   \n",
        "\n",
        "   Parch            Ticket     Fare Cabin Embarked  Sex_Val  Embarked_Val  \\\n",
        "0      0         A/5 21171   7.2500   NaN        S        1             3   \n",
        "1      0          PC 17599  71.2833   C85        C        0             1   \n",
        "2      0  STON/O2. 3101282   7.9250   NaN        S        0             3   \n",
        "\n",
        "   AgeFill  AgeIsNull  \n",
        "0       22          0  \n",
        "1       38          0  \n",
        "2       26          0  "
       ]
      }
     ],
     "prompt_number": 40
    },
    {
     "cell_type": "markdown",
     "metadata": {},
     "source": [
      "Plot a normalized cross tab for AgeFill and Survived:"
     ]
    },
    {
     "cell_type": "code",
     "collapsed": false,
     "input": [
      "fig, axes = plt.subplots(3, 1, figsize=(10, 20))\n",
      "\n",
      "# Histogram of AgeFill segmented by Survived\n",
      "df1 = df[df['Survived'] == 0]['Age']\n",
      "df2 = df[df['Survived'] == 1]['Age']\n",
      "axes[0].hist([df1, df2], bins=max_age / 10, range=(1, max_age), stacked=True)\n",
      "axes[0].legend(('Died', 'Survived'), loc='best')\n",
      "axes[0].set_title('Age Gruby Survivors Histogram')\n",
      "axes[0].set_xlabel('Age')\n",
      "axes[0].set_ylabel('Count')\n",
      "\n",
      "# Plot a normalized cross tab for AgeFill and Survived\n",
      "age_fill_xt = pd.crosstab(df['AgeFill'], df['Survived'])\n",
      "age_fill_xt_pct = age_fill_xt.div(age_fill_xt.sum(1).astype(float), axis=0)\n",
      "age_fill_xt_pct.plot(ax=axes[1], stacked=True)\n",
      "axes[1].legend(loc='best')\n",
      "axes[1].set_title('Age Survival Rate')\n",
      "axes[1].set_xlabel('Age')\n",
      "axes[1].set_ylabel('Count')\n",
      "\n",
      "# Scatter plot Survived and AgeFil\n",
      "axes[2].scatter(df['Survived'], df['AgeFill'])\n",
      "axes[2].set_title('Age by Survivors Scatter Plot')\n",
      "axes[2].set_xlabel('Age')\n",
      "axes[2].set_ylabel('Count')"
     ],
     "language": "python",
     "metadata": {},
     "outputs": [
      {
       "metadata": {},
       "output_type": "pyout",
       "prompt_number": 70,
       "text": [
        "<matplotlib.text.Text at 0x1150b7f50>"
       ]
      },
      {
       "metadata": {},
       "output_type": "display_data",
       "png": "[encoded data removed]",
       "text": [
        "<matplotlib.figure.Figure at 0x10eff0350>"
       ]
      }
     ],
     "prompt_number": 70
    },
    {
     "cell_type": "markdown",
     "metadata": {},
     "source": [
      "It's tougher to see a clear correlation between AgeFill and Survived."
     ]
    },
    {
     "cell_type": "code",
     "collapsed": false,
     "input": [
      "for pclass in passenger_classes:\n",
      "    df.AgeFill[df.Pclass == pclass].plot(kind='kde')\n",
      "\n",
      "plt.title('Age Density Plot by Passenger Class')\n",
      "plt.xlabel('Age')\n",
      "plt.legend(('1st Class', '2nd Class', '3rd Class'), loc='best')"
     ],
     "language": "python",
     "metadata": {},
     "outputs": [
      {
       "metadata": {},
       "output_type": "pyout",
       "prompt_number": 42,
       "text": [
        "<matplotlib.legend.Legend at 0x10c997790>"
       ]
      },
      {
       "metadata": {},
       "output_type": "display_data",
       "png": "[encoded data removed]",
       "text": [
        "<matplotlib.figure.Figure at 0x10a8992d0>"
       ]
      }
     ],
     "prompt_number": 42
    },
    {
     "cell_type": "markdown",
     "metadata": {},
     "source": [
      "When looking at AgeFill density by Pclass, we see the first class passengers were generally older then second class passengers, which in turn were older than third class passengers.  We've determined that first class passengers had a higher survival rate than second class passengers, which in turn had a higher survival rate than third class passengers."
     ]
    }
   ],
   "metadata": {}
  }
 ]
}